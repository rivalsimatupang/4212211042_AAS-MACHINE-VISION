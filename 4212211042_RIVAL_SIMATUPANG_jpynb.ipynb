{
  "cells": [
    {
      "cell_type": "markdown",
      "metadata": {
        "id": "view-in-github",
        "colab_type": "text"
      },
      "source": [
        "<a href=\"https://colab.research.google.com/github/rivalsimatupang/4212211042_AAS-MACHINE-VISION/blob/main/4212211042_RIVAL_SIMATUPANG_jpynb.ipynb\" target=\"_parent\"><img src=\"https://colab.research.google.com/assets/colab-badge.svg\" alt=\"Open In Colab\"/></a>"
      ]
    },
    {
      "cell_type": "code",
      "execution_count": 4,
      "metadata": {
        "id": "a592wQIlkraS"
      },
      "outputs": [],
      "source": [
        "import pandas as pd\n",
        "import torch\n",
        "import numpy as np\n",
        "from torchvision import transforms, models\n",
        "from torch.utils.data import Dataset, DataLoader\n",
        "from torch import nn, optim\n",
        "from PIL import Image\n",
        "from sklearn.metrics import confusion_matrix, accuracy_score, precision_score, f1_score\n",
        "from tqdm import tqdm\n",
        "from mlxtend.plotting import plot_confusion_matrix"
      ]
    },
    {
      "cell_type": "code",
      "execution_count": 5,
      "metadata": {
        "id": "pS1o7Xyw55wF"
      },
      "outputs": [],
      "source": [
        " train_data = pd.read_csv('/content/emnist-bymerge-train.csv', header=None, nrows=500)\n",
        " test_data = pd.read_csv('/content/emnist-bymerge-test.csv', header=None, nrows=500)"
      ]
    },
    {
      "cell_type": "code",
      "execution_count": 6,
      "metadata": {
        "id": "trrKxHeG6DcI"
      },
      "outputs": [],
      "source": [
        "def preprocess_image(data):\n",
        "    data = np.clip(data, 0, 255).astype(np.uint8).reshape(28, 28)\n",
        "    return Image.fromarray(data).convert(\"RGB\")"
      ]
    },
    {
      "cell_type": "code",
      "execution_count": 7,
      "metadata": {
        "id": "FlKW6dqg6GG0"
      },
      "outputs": [],
      "source": [
        " class CustomDataset(Dataset):\n",
        "    def __init__(self, dataframe, transform=None):\n",
        "        \"\"\"\n",
        "        Initialize the dataset with a DataFrame and optional image transformations.\n",
        "        \"\"\"\n",
        "        self.dataframe = dataframe\n",
        "        self.transform = transform\n",
        "    def __len__(self):\n",
        "        \"\"\"\n",
        "        Returns the total number of samples in the dataset.\n",
        "        \"\"\"\n",
        "        return len(self.dataframe)\n",
        "    def __getitem__(self, idx):\n",
        "        \"\"\"\n",
        "        Retrieves the image and label for a given index, applies preprocessing and transformations.\n",
        "        \"\"\"\n",
        "        label = self.dataframe.iloc[idx, 0]\n",
        "        img_data = self.dataframe.iloc[idx, 1:].values\n",
        "        image = preprocess_image(img_data)\n",
        "        if self.transform:\n",
        "            image = self.transform(image)\n",
        "        return image, label\n",
        "    transform = transforms.Compose([\n",
        "    transforms.Resize((224, 224)),\n",
        "    transforms.ToTensor()\n",
        "    ])"
      ]
    },
    {
      "cell_type": "code",
      "execution_count": 8,
      "metadata": {
        "id": "2LWry9z17HfP"
      },
      "outputs": [],
      "source": [
        " # Create datasets and data loaders for training and validation\n",
        " # Use train_data and test_data instead of data_train and data_val\n",
        " train_dataset = CustomDataset(train_data, transform=CustomDataset.transform)  # Use CustomDataset.transform\n",
        " val_dataset = CustomDataset(test_data, transform=CustomDataset.transform)  # Use CustomDataset.transform\n",
        "\n",
        "train_loader = DataLoader(train_dataset, batch_size=4, shuffle=True)  # Training data loader\n",
        " val_loader = DataLoader(val_dataset, batch_size=4, shuffle=False)    # Validation data loader"
      ]
    },
    {
      "cell_type": "code",
      "execution_count": 9,
      "metadata": {
        "colab": {
          "base_uri": "https://localhost:8080/"
        },
        "id": "f6_qItnF8IuR",
        "outputId": "10c63a8f-3743-411b-9c3d-193904cb81d4"
      },
      "outputs": [
        {
          "output_type": "stream",
          "name": "stderr",
          "text": [
            "/usr/local/lib/python3.10/dist-packages/torchvision/models/_utils.py:208: UserWarning: The parameter 'pretrained' is deprecated since 0.13 and may be removed in the future, please use 'weights' instead.\n",
            "  warnings.warn(\n",
            "/usr/local/lib/python3.10/dist-packages/torchvision/models/_utils.py:223: UserWarning: Arguments other than a weight enum or `None` for 'weights' are deprecated since 0.13 and may be removed in the future. The current behavior is equivalent to passing `weights=AlexNet_Weights.IMAGENET1K_V1`. You can also use `weights=AlexNet_Weights.DEFAULT` to get the most up-to-date weights.\n",
            "  warnings.warn(msg)\n",
            "Downloading: \"https://download.pytorch.org/models/alexnet-owt-7be5be79.pth\" to /root/.cache/torch/hub/checkpoints/alexnet-owt-7be5be79.pth\n",
            "100%|██████████| 233M/233M [00:03<00:00, 68.2MB/s]\n"
          ]
        }
      ],
      "source": [
        " # Initialize a pretrained AlexNet model for transfer learning\n",
        " model = models.alexnet(pretrained=True)\n",
        " model.classifier[6] = nn.Linear(4096, 200)"
      ]
    },
    {
      "cell_type": "code",
      "execution_count": 10,
      "metadata": {
        "id": "JDc7W1BT8f3i"
      },
      "outputs": [],
      "source": [
        "# Freeze feature extraction layers to only train the classifier\n",
        "for param in model.features.parameters():\n",
        "    param.requires_grad = False"
      ]
    },
    {
      "cell_type": "code",
      "execution_count": 11,
      "metadata": {
        "id": "_l5x6AN38lBc"
      },
      "outputs": [],
      "source": [
        " # Define loss function and optimizer\n",
        " criterion = nn.CrossEntropyLoss()\n",
        " optimizer = optim.Adam(model.parameters(), lr=0.0001)"
      ]
    },
    {
      "cell_type": "code",
      "execution_count": 12,
      "metadata": {
        "colab": {
          "base_uri": "https://localhost:8080/"
        },
        "id": "40GZ5I-q8nKG",
        "outputId": "57d75580-cf47-4f87-9f56-6d3198e20250"
      },
      "outputs": [
        {
          "output_type": "execute_result",
          "data": {
            "text/plain": [
              "AlexNet(\n",
              "  (features): Sequential(\n",
              "    (0): Conv2d(3, 64, kernel_size=(11, 11), stride=(4, 4), padding=(2, 2))\n",
              "    (1): ReLU(inplace=True)\n",
              "    (2): MaxPool2d(kernel_size=3, stride=2, padding=0, dilation=1, ceil_mode=False)\n",
              "    (3): Conv2d(64, 192, kernel_size=(5, 5), stride=(1, 1), padding=(2, 2))\n",
              "    (4): ReLU(inplace=True)\n",
              "    (5): MaxPool2d(kernel_size=3, stride=2, padding=0, dilation=1, ceil_mode=False)\n",
              "    (6): Conv2d(192, 384, kernel_size=(3, 3), stride=(1, 1), padding=(1, 1))\n",
              "    (7): ReLU(inplace=True)\n",
              "    (8): Conv2d(384, 256, kernel_size=(3, 3), stride=(1, 1), padding=(1, 1))\n",
              "    (9): ReLU(inplace=True)\n",
              "    (10): Conv2d(256, 256, kernel_size=(3, 3), stride=(1, 1), padding=(1, 1))\n",
              "    (11): ReLU(inplace=True)\n",
              "    (12): MaxPool2d(kernel_size=3, stride=2, padding=0, dilation=1, ceil_mode=False)\n",
              "  )\n",
              "  (avgpool): AdaptiveAvgPool2d(output_size=(6, 6))\n",
              "  (classifier): Sequential(\n",
              "    (0): Dropout(p=0.5, inplace=False)\n",
              "    (1): Linear(in_features=9216, out_features=4096, bias=True)\n",
              "    (2): ReLU(inplace=True)\n",
              "    (3): Dropout(p=0.5, inplace=False)\n",
              "    (4): Linear(in_features=4096, out_features=4096, bias=True)\n",
              "    (5): ReLU(inplace=True)\n",
              "    (6): Linear(in_features=4096, out_features=200, bias=True)\n",
              "  )\n",
              ")"
            ]
          },
          "metadata": {},
          "execution_count": 12
        }
      ],
      "source": [
        " # Configure the device for GPU acceleration (if available)\n",
        " device = torch.device('cuda' if torch.cuda.is_available() else 'cpu')\n",
        " model.to(device)"
      ]
    },
    {
      "cell_type": "code",
      "execution_count": 13,
      "metadata": {
        "id": "XWC28wt98qHy"
      },
      "outputs": [],
      "source": [
        " # Training Loop\n",
        " from sklearn.model_selection import LeaveOneOut\n",
        " from sklearn.metrics import confusion_matrix, accuracy_score, precision_score, f1_score"
      ]
    },
    {
      "cell_type": "code",
      "execution_count": 14,
      "metadata": {
        "id": "H_xUQRdu8xIg"
      },
      "outputs": [],
      "source": [
        " # Convert the training data into a NumPy array for LOOCV\n",
        " data_array = train_data.to_numpy()"
      ]
    },
    {
      "cell_type": "code",
      "execution_count": 15,
      "metadata": {
        "colab": {
          "base_uri": "https://localhost:8080/"
        },
        "id": "Fh5UVeDl82CP",
        "outputId": "a647151f-7176-4370-d943-1f569c3c029a"
      },
      "outputs": [
        {
          "output_type": "stream",
          "name": "stdout",
          "text": [
            "Starting LOOCV...\n"
          ]
        }
      ],
      "source": [
        "# Initialize lists to store predictions and labels for evaluation\n",
        "all_preds, all_labels = [], []\n",
        "print(\"Starting LOOCV...\")"
      ]
    },
    {
      "cell_type": "code",
      "execution_count": 16,
      "metadata": {
        "colab": {
          "base_uri": "https://localhost:8080/"
        },
        "id": "xGelNd1U87y-",
        "outputId": "f206ad90-ad94-479a-9aaa-8364a264e3c0"
      },
      "outputs": [
        {
          "output_type": "stream",
          "name": "stderr",
          "text": [
            "500it [35:21,  4.24s/it]\n"
          ]
        }
      ],
      "source": [
        "# Leave-One-Out Cross Validation implementation\n",
        "loo = LeaveOneOut()\n",
        "for train_idx, test_idx in tqdm(loo.split(data_array)):\n",
        "    # Split data into training and test sets for this fold\n",
        "    train_samples = data_array[train_idx]\n",
        "    test_sample = data_array[test_idx]\n",
        "    # Create datasets and dataloaders for the current LOOCV split\n",
        "    train_dataset = CustomDataset(pd.DataFrame(train_samples), transform=CustomDataset.transform)\n",
        "    test_dataset = CustomDataset(pd.DataFrame(test_sample), transform=CustomDataset.transform)\n",
        "    train_loader = DataLoader(train_dataset, batch_size=4, shuffle=True)\n",
        "    test_loader = DataLoader(test_dataset, batch_size=1, shuffle=False)\n",
        "    # Reinitialize the model and optimizer for each LOOCV iteration\n",
        "    model = models.alexnet(pretrained=True)\n",
        "    model.classifier[6] = nn.Linear(4096, 200)\n",
        "    model.to(device)\n",
        "    criterion = nn.CrossEntropyLoss()\n",
        "    optimizer = optim.Adam(model.parameters(), lr=0.0001)\n",
        "    # Training loop for the current fold\n",
        "    model.train()\n",
        "    for inputs, labels in train_loader:\n",
        "        inputs, labels = inputs.to(device), labels.to(device)\n",
        "        optimizer.zero_grad()\n",
        "        outputs = model(inputs)\n",
        "        loss = criterion(outputs, labels)\n",
        "        loss.backward()\n",
        "        optimizer.step()\n",
        "    # Validation loop for the current fold\n",
        "    model.eval()\n",
        "    with torch.no_grad(): # Corrected indentation here\n",
        "        for inputs, labels in test_loader:\n",
        "            inputs, labels = inputs.to(device), labels.to(device)\n",
        "            outputs = model(inputs)\n",
        "            all_preds.append(torch.argmax(outputs, dim=1).cpu().item())\n",
        "            all_labels.append(labels.cpu().item())"
      ]
    },
    {
      "cell_type": "code",
      "execution_count": 17,
      "metadata": {
        "id": "90Fre5229IKK"
      },
      "outputs": [],
      "source": [
        " # Calculate evaluation metrics\n",
        " conf_matrix = confusion_matrix(all_labels, all_preds)  # Confusion matrix\n",
        " accuracy = accuracy_score(all_labels, all_preds)      # Accuracy score\n",
        " precision = precision_score(all_labels, all_preds, average=\"macro\", zero_division=0)  # Precision score\n",
        " f1 = f1_score(all_labels, all_preds, average=\"macro\") # F1 score"
      ]
    },
    {
      "cell_type": "code",
      "execution_count": 18,
      "metadata": {
        "id": "Z8IAgzVC9QAx",
        "colab": {
          "base_uri": "https://localhost:8080/"
        },
        "outputId": "97806a92-c5bc-4481-b835-5fe4052c6d93"
      },
      "outputs": [
        {
          "output_type": "stream",
          "name": "stdout",
          "text": [
            "\n",
            "Evaluation Results:\n",
            "Confusion Matrix:\n",
            "[[20  0  0 ...  0  0  0]\n",
            " [ 0 15  0 ...  0  0  0]\n",
            " [ 1  0 14 ...  0  0  0]\n",
            " ...\n",
            " [ 0  0  0 ...  0  0  0]\n",
            " [ 0  0  0 ...  0  6  0]\n",
            " [ 0  1  0 ...  0  0 11]]\n",
            "Accuracy: 0.4240\n",
            "Precision: 0.2080\n",
            "F1-Score: 0.1978\n"
          ]
        }
      ],
      "source": [
        " # Display evaluation results\n",
        " print(\"\\nEvaluation Results:\")\n",
        " print(f\"Confusion Matrix:\\n{conf_matrix}\")\n",
        " print(f\"Accuracy: {accuracy:.4f}\")\n",
        " print(f\"Precision: {precision:.4f}\")\n",
        " print(f\"F1-Score: {f1:.4f}\")"
      ]
    },
    {
      "cell_type": "code",
      "execution_count": 21,
      "metadata": {
        "id": "Z-1s96klOXiM",
        "colab": {
          "base_uri": "https://localhost:8080/",
          "height": 487
        },
        "outputId": "1ba183c4-5a50-4c32-eb4f-f4931f1e3f65"
      },
      "outputs": [
        {
          "output_type": "execute_result",
          "data": {
            "text/plain": [
              "(<Figure size 640x480 with 1 Axes>,\n",
              " <Axes: xlabel='predicted label', ylabel='true label'>)"
            ]
          },
          "metadata": {},
          "execution_count": 21
        },
        {
          "output_type": "display_data",
          "data": {
            "text/plain": [
              "<Figure size 640x480 with 1 Axes>"
            ],
            "image/png": "[encoded data removed]"
          },
          "metadata": {}
        }
      ],
      "source": [
        "plot_confusion_matrix(conf_matrix)"
      ]
    }
  ],
  "metadata": {
    "accelerator": "GPU",
    "colab": {
      "gpuType": "T4",
      "provenance": [],
      "authorship_tag": "ABX9TyM0TxLlcxQqxnzm7X8kI9HF",
      "include_colab_link": true
    },
    "kernelspec": {
      "display_name": "Python 3",
      "name": "python3"
    },
    "language_info": {
      "name": "python"
    }
  },
  "nbformat": 4,
  "nbformat_minor": 0
}